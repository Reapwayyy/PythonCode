{
 "cells": [
  {
   "cell_type": "code",
   "execution_count": 1,
   "id": "d7348666-88c5-44c0-9e1f-bc42662a02c6",
   "metadata": {},
   "outputs": [
    {
     "name": "stdout",
     "output_type": "stream",
     "text": [
      "Validation Accuracy: 1.00\n",
      "Test Accuracy: 0.97\n"
     ]
    }
   ],
   "source": [
    "import pandas as pd \n",
    "from sklearn.model_selection import train_test_split\n",
    "from sklearn.datasets import load_iris\n",
    "from sklearn.linear_model import LogisticRegression\n",
    "from sklearn.metrics import accuracy_score\n",
    "\n",
    "#load a sampl dataset (Iris Dataset)\n",
    "data = load_iris()\n",
    "X = data.data #features\n",
    "Y = data.target #Target lables\n",
    "\n",
    "#split the dataset into training and testing sets\n",
    "#80% for training and 20% for testing\n",
    "X_train,X_test,Y_train,Y_test = train_test_split(X,Y,test_size=0.2, random_state=1)\n",
    "\n",
    "#further split the traning set for validation (e.g., 75% train, 25% validation)\n",
    "X_train,X_val,Y_train,Y_val = train_test_split(X_train,Y_train, test_size=0.2, random_state=1)\n",
    "\n",
    "#create a model (Logistic Regression for this example)\n",
    "model = LogisticRegression(max_iter=200)\n",
    "\n",
    "#train the model on the training set\n",
    "model.fit(X_train,Y_train)\n",
    "\n",
    "#validate the model on the validation set\n",
    "Y_val_pred = model.predict(X_val)\n",
    "val_accuracy = accuracy_score(Y_val,Y_val_pred)\n",
    "print(f'Validation Accuracy: { val_accuracy:.2f}')\n",
    "\n",
    "#test the model on the testing set\n",
    "Y_test_pred = model.predict(X_test)\n",
    "test_accuracy = accuracy_score(Y_test,Y_test_pred)\n",
    "print(f'Test Accuracy: {test_accuracy:.2f}')\n"
   ]
  },
  {
   "cell_type": "code",
   "execution_count": null,
   "id": "74615e7a-9942-4b85-8e6a-09fb1370a6d4",
   "metadata": {},
   "outputs": [],
   "source": []
  }
 ],
 "metadata": {
  "kernelspec": {
   "display_name": "Python 3 (ipykernel)",
   "language": "python",
   "name": "python3"
  },
  "language_info": {
   "codemirror_mode": {
    "name": "ipython",
    "version": 3
   },
   "file_extension": ".py",
   "mimetype": "text/x-python",
   "name": "python",
   "nbconvert_exporter": "python",
   "pygments_lexer": "ipython3",
   "version": "3.11.7"
  }
 },
 "nbformat": 4,
 "nbformat_minor": 5
}
