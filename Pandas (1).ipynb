{
 "cells": [
  {
   "cell_type": "code",
   "execution_count": 1,
   "id": "550f69ba-e89e-4373-afa7-544f7f395316",
   "metadata": {},
   "outputs": [
    {
     "name": "stdout",
     "output_type": "stream",
     "text": [
      "Pandas Series :  Series([], dtype: object)\n",
      "Pandas Series:\n",
      " 0    c\n",
      "1    h\n",
      "2    r\n",
      "3    i\n",
      "4    s\n",
      "5    t\n",
      "dtype: object\n",
      "Empty DataFrame\n",
      "Columns: []\n",
      "Index: []\n",
      "            0\n",
      "0      Christ\n",
      "1      Deemed\n",
      "2          To\n",
      "3          Be\n",
      "4  Univeristy\n",
      "5   Bangalore\n",
      "6   Karnataka\n"
     ]
    }
   ],
   "source": [
    "import numpy as np\n",
    "import pandas as pd\n",
    "ser = pd.Series()\n",
    "print(\"Pandas Series : \",ser)\n",
    "data = np.array(['c','h','r','i','s','t'])\n",
    "ser = pd.Series(data)\n",
    "print(\"Pandas Series:\\n\", ser)\n",
    "df = pd.DataFrame()\n",
    "print(df)\n",
    "lst = ['Christ','Deemed','To','Be','Univeristy','Bangalore','Karnataka']\n",
    "df = pd.DataFrame(lst)\n",
    "print(df)"
   ]
  },
  {
   "cell_type": "code",
   "execution_count": null,
   "id": "51d71179-2186-46b3-b85e-cf9af212b439",
   "metadata": {},
   "outputs": [],
   "source": []
  }
 ],
 "metadata": {
  "kernelspec": {
   "display_name": "Python 3 (ipykernel)",
   "language": "python",
   "name": "python3"
  },
  "language_info": {
   "codemirror_mode": {
    "name": "ipython",
    "version": 3
   },
   "file_extension": ".py",
   "mimetype": "text/x-python",
   "name": "python",
   "nbconvert_exporter": "python",
   "pygments_lexer": "ipython3",
   "version": "3.11.7"
  }
 },
 "nbformat": 4,
 "nbformat_minor": 5
}
