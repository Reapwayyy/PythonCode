{
 "cells": [
  {
   "cell_type": "code",
   "execution_count": 15,
   "id": "30370b49-c5a6-41ba-9c11-8d875cdfc675",
   "metadata": {},
   "outputs": [
    {
     "name": "stdout",
     "output_type": "stream",
     "text": [
      "KNN MODEL ACCURACY 0.9833333333333333\n",
      "PREDICTIONS ['versicolor', 'virginica']\n"
     ]
    }
   ],
   "source": [
    "#load the iris dataset as an example\n",
    "from sklearn.datasets import load_iris\n",
    "iris = load_iris()\n",
    "\n",
    "# store the feature matrix X and response vector Y\n",
    "X = iris.data\n",
    "Y = iris.target\n",
    "\n",
    "#splitting X and Y into traning and testing sets\n",
    "from sklearn.model_selection import train_test_split\n",
    "X_train,X_test,Y_train,Y_test = train_test_split(X,Y, test_size = 0.4, random_state=1)\n",
    "\n",
    "#training the model on training set\n",
    "from sklearn.neighbors import KNeighborsClassifier\n",
    "knn = KNeighborsClassifier(n_neighbors=3)\n",
    "knn.fit(X_train,Y_train)\n",
    "\n",
    "#making predictions on the testing set\n",
    "Y_pred = knn.predict(X_test)\n",
    "\n",
    "#comparing actual response values (Y_test) with predicted response values (Y_pred)\n",
    "from sklearn import metrics\n",
    "print(\"KNN MODEL ACCURACY\", metrics.accuracy_score(Y_test,Y_pred))\n",
    "\n",
    "#making prediction for out of sample data\n",
    "sample = [[3,5,4,2],[2,3,5,4]]\n",
    "preds = knn.predict(sample)\n",
    "pred_species = [iris.target_names[p] for p in preds]\n",
    "print(\"PREDICTIONS\", pred_species)"
   ]
  }
 ],
 "metadata": {
  "kernelspec": {
   "display_name": "Python 3 (ipykernel)",
   "language": "python",
   "name": "python3"
  },
  "language_info": {
   "codemirror_mode": {
    "name": "ipython",
    "version": 3
   },
   "file_extension": ".py",
   "mimetype": "text/x-python",
   "name": "python",
   "nbconvert_exporter": "python",
   "pygments_lexer": "ipython3",
   "version": "3.11.7"
  }
 },
 "nbformat": 4,
 "nbformat_minor": 5
}
